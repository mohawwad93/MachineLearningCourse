{
 "cells": [
  {
   "cell_type": "markdown",
   "metadata": {},
   "source": [
    "## 1 - Packages"
   ]
  },
  {
   "cell_type": "code",
   "execution_count": 1,
   "metadata": {},
   "outputs": [],
   "source": [
    "# Import packages\n",
    "import numpy as np\n",
    "import pandas as pd\n",
    "import matplotlib.pyplot as plt"
   ]
  },
  {
   "cell_type": "markdown",
   "metadata": {},
   "source": [
    "## 2 - Overview of the Problem set\n",
    "\n",
    "**Problem Statement**: You are given the iris dataset which consists of 3 different types of irises that are Setosa, Versicolour, and Virginica. The petal and sepal length and width are stored in a 150x4 numpy array.\n",
    "Thus, The dataset contains 150 iris sample where each sample has four features that are the petal and sepal length and width.\n",
    "\n",
    "We will build a simple neural network that can correctly classify irises as Setosa, Versicolour, or Virginica.\n",
    "\n",
    "Let's get more familiar with the dataset. Load the data by running the following code."
   ]
  },
  {
   "cell_type": "code",
   "execution_count": 2,
   "metadata": {},
   "outputs": [],
   "source": [
    "# Loading iris dataset\n",
    "from sklearn.datasets import load_iris\n",
    "iris = load_iris()"
   ]
  },
  {
   "cell_type": "code",
   "execution_count": 3,
   "metadata": {},
   "outputs": [
    {
     "name": "stdout",
     "output_type": "stream",
     "text": [
      "Name   of the features:  ['sepal length (cm)', 'sepal width (cm)', 'petal length (cm)', 'petal width (cm)']\n",
      "Name   of the target  :  ['setosa' 'versicolor' 'virginica']\n",
      "Shape  of the dataset :  (150, 4)\n",
      "Number of the samples :  150\n",
      "Number of the features:  4\n",
      "Number of the targets :  (150,)\n"
     ]
    }
   ],
   "source": [
    "# Explore the dataset\n",
    "print(\"Name   of the features: \", iris.feature_names)\n",
    "print(\"Name   of the target  : \", iris.target_names)\n",
    "print(\"Shape  of the dataset : \", iris.data.shape)\n",
    "print(\"Number of the samples : \", iris.data.shape[0])\n",
    "print(\"Number of the features: \", iris.data.shape[1])\n",
    "print(\"Number of the targets : \", iris.target.shape)"
   ]
  },
  {
   "cell_type": "code",
   "execution_count": 4,
   "metadata": {},
   "outputs": [
    {
     "data": {
      "text/html": [
       "<div>\n",
       "<style scoped>\n",
       "    .dataframe tbody tr th:only-of-type {\n",
       "        vertical-align: middle;\n",
       "    }\n",
       "\n",
       "    .dataframe tbody tr th {\n",
       "        vertical-align: top;\n",
       "    }\n",
       "\n",
       "    .dataframe thead th {\n",
       "        text-align: right;\n",
       "    }\n",
       "</style>\n",
       "<table border=\"1\" class=\"dataframe\">\n",
       "  <thead>\n",
       "    <tr style=\"text-align: right;\">\n",
       "      <th></th>\n",
       "      <th>sepal length (cm)</th>\n",
       "      <th>sepal width (cm)</th>\n",
       "      <th>petal length (cm)</th>\n",
       "      <th>petal width (cm)</th>\n",
       "      <th>target</th>\n",
       "    </tr>\n",
       "  </thead>\n",
       "  <tbody>\n",
       "    <tr>\n",
       "      <td>0</td>\n",
       "      <td>5.1</td>\n",
       "      <td>3.5</td>\n",
       "      <td>1.4</td>\n",
       "      <td>0.2</td>\n",
       "      <td>0.0</td>\n",
       "    </tr>\n",
       "    <tr>\n",
       "      <td>1</td>\n",
       "      <td>4.9</td>\n",
       "      <td>3.0</td>\n",
       "      <td>1.4</td>\n",
       "      <td>0.2</td>\n",
       "      <td>0.0</td>\n",
       "    </tr>\n",
       "    <tr>\n",
       "      <td>2</td>\n",
       "      <td>4.7</td>\n",
       "      <td>3.2</td>\n",
       "      <td>1.3</td>\n",
       "      <td>0.2</td>\n",
       "      <td>0.0</td>\n",
       "    </tr>\n",
       "    <tr>\n",
       "      <td>3</td>\n",
       "      <td>4.6</td>\n",
       "      <td>3.1</td>\n",
       "      <td>1.5</td>\n",
       "      <td>0.2</td>\n",
       "      <td>0.0</td>\n",
       "    </tr>\n",
       "    <tr>\n",
       "      <td>4</td>\n",
       "      <td>5.0</td>\n",
       "      <td>3.6</td>\n",
       "      <td>1.4</td>\n",
       "      <td>0.2</td>\n",
       "      <td>0.0</td>\n",
       "    </tr>\n",
       "  </tbody>\n",
       "</table>\n",
       "</div>"
      ],
      "text/plain": [
       "   sepal length (cm)  sepal width (cm)  petal length (cm)  petal width (cm)  \\\n",
       "0                5.1               3.5                1.4               0.2   \n",
       "1                4.9               3.0                1.4               0.2   \n",
       "2                4.7               3.2                1.3               0.2   \n",
       "3                4.6               3.1                1.5               0.2   \n",
       "4                5.0               3.6                1.4               0.2   \n",
       "\n",
       "   target  \n",
       "0     0.0  \n",
       "1     0.0  \n",
       "2     0.0  \n",
       "3     0.0  \n",
       "4     0.0  "
      ]
     },
     "execution_count": 4,
     "metadata": {},
     "output_type": "execute_result"
    }
   ],
   "source": [
    "# Display a portion of the dataset\n",
    "target_col_name = 'target'\n",
    "df = pd.DataFrame(data= np.hstack([iris.data, iris.target[:, np.newaxis]]),\n",
    "                       columns= iris.feature_names + [target_col_name])\n",
    "df.head()"
   ]
  },
  {
   "cell_type": "markdown",
   "metadata": {},
   "source": [
    "Note: You should reshape iris target shape from (150,) to (150,1) to treat it as column vector."
   ]
  },
  {
   "cell_type": "markdown",
   "metadata": {},
   "source": [
    "## 3 - Splitting Data into Training and Test Sets"
   ]
  },
  {
   "cell_type": "code",
   "execution_count": 5,
   "metadata": {},
   "outputs": [],
   "source": [
    "from sklearn.model_selection import train_test_split\n",
    "X_train, X_test, Y_train, Y_test = train_test_split(df[iris.feature_names], df[target_col_name], train_size=0.7, random_state=0)"
   ]
  },
  {
   "cell_type": "markdown",
   "metadata": {},
   "source": [
    "## 4 - Preprocessing "
   ]
  },
  {
   "cell_type": "markdown",
   "metadata": {},
   "source": [
    "### 4.1 Feature Scaling "
   ]
  },
  {
   "cell_type": "code",
   "execution_count": 6,
   "metadata": {},
   "outputs": [],
   "source": [
    "from sklearn.preprocessing import StandardScaler\n",
    "std_scale =  StandardScaler()"
   ]
  },
  {
   "cell_type": "code",
   "execution_count": 7,
   "metadata": {},
   "outputs": [],
   "source": [
    "# Scale features to be standardized features\n",
    "std_scale.fit(X_train)\n",
    "X_train = std_scale.transform(X_train)\n",
    "X_test = std_scale.transform(X_test)"
   ]
  },
  {
   "cell_type": "code",
   "execution_count": 8,
   "metadata": {},
   "outputs": [
    {
     "name": "stdout",
     "output_type": "stream",
     "text": [
      "X_train mean = [0 0 0 0]\n",
      "X_train std = [1. 1. 1. 1.]\n"
     ]
    }
   ],
   "source": [
    "print(f'X_train mean = {X_train.mean(0).astype(int)}')\n",
    "print(f'X_train std = {X_train.std(0)}')"
   ]
  },
  {
   "cell_type": "code",
   "execution_count": 9,
   "metadata": {},
   "outputs": [
    {
     "data": {
      "text/html": [
       "<div>\n",
       "<style scoped>\n",
       "    .dataframe tbody tr th:only-of-type {\n",
       "        vertical-align: middle;\n",
       "    }\n",
       "\n",
       "    .dataframe tbody tr th {\n",
       "        vertical-align: top;\n",
       "    }\n",
       "\n",
       "    .dataframe thead th {\n",
       "        text-align: right;\n",
       "    }\n",
       "</style>\n",
       "<table border=\"1\" class=\"dataframe\">\n",
       "  <thead>\n",
       "    <tr style=\"text-align: right;\">\n",
       "      <th></th>\n",
       "      <th>sepal length (cm)</th>\n",
       "      <th>sepal width (cm)</th>\n",
       "      <th>petal length (cm)</th>\n",
       "      <th>petal width (cm)</th>\n",
       "    </tr>\n",
       "  </thead>\n",
       "  <tbody>\n",
       "    <tr>\n",
       "      <td>60</td>\n",
       "      <td>-1.023664</td>\n",
       "      <td>-2.378463</td>\n",
       "      <td>-0.182950</td>\n",
       "      <td>-0.293181</td>\n",
       "    </tr>\n",
       "    <tr>\n",
       "      <td>116</td>\n",
       "      <td>0.695175</td>\n",
       "      <td>-0.101903</td>\n",
       "      <td>0.930661</td>\n",
       "      <td>0.737246</td>\n",
       "    </tr>\n",
       "    <tr>\n",
       "      <td>144</td>\n",
       "      <td>0.924353</td>\n",
       "      <td>0.581065</td>\n",
       "      <td>1.042022</td>\n",
       "      <td>1.638870</td>\n",
       "    </tr>\n",
       "    <tr>\n",
       "      <td>119</td>\n",
       "      <td>0.122229</td>\n",
       "      <td>-1.923151</td>\n",
       "      <td>0.652258</td>\n",
       "      <td>0.350836</td>\n",
       "    </tr>\n",
       "    <tr>\n",
       "      <td>108</td>\n",
       "      <td>0.924353</td>\n",
       "      <td>-1.240183</td>\n",
       "      <td>1.097702</td>\n",
       "      <td>0.737246</td>\n",
       "    </tr>\n",
       "  </tbody>\n",
       "</table>\n",
       "</div>"
      ],
      "text/plain": [
       "     sepal length (cm)  sepal width (cm)  petal length (cm)  petal width (cm)\n",
       "60           -1.023664         -2.378463          -0.182950         -0.293181\n",
       "116           0.695175         -0.101903           0.930661          0.737246\n",
       "144           0.924353          0.581065           1.042022          1.638870\n",
       "119           0.122229         -1.923151           0.652258          0.350836\n",
       "108           0.924353         -1.240183           1.097702          0.737246"
      ]
     },
     "execution_count": 9,
     "metadata": {},
     "output_type": "execute_result"
    }
   ],
   "source": [
    "X_train = pd.DataFrame(data=X_train, index=Y_train.index, columns= iris.feature_names)\n",
    "X_test = pd.DataFrame(data=X_test, index=Y_test.index, columns= iris.feature_names)\n",
    "X_train.head()"
   ]
  },
  {
   "cell_type": "markdown",
   "metadata": {},
   "source": [
    "### 4.2 Dataset Shape"
   ]
  },
  {
   "cell_type": "markdown",
   "metadata": {},
   "source": [
    "The output layer of our NN model will be (3, 1) shape, so we will use one hot encoding to do that as following:"
   ]
  },
  {
   "cell_type": "code",
   "execution_count": 10,
   "metadata": {},
   "outputs": [
    {
     "name": "stdout",
     "output_type": "stream",
     "text": [
      "Y_train before one hot encoding: \n"
     ]
    },
    {
     "data": {
      "text/plain": [
       "60     1.0\n",
       "116    2.0\n",
       "144    2.0\n",
       "119    2.0\n",
       "108    2.0\n",
       "Name: target, dtype: float64"
      ]
     },
     "metadata": {},
     "output_type": "display_data"
    },
    {
     "name": "stdout",
     "output_type": "stream",
     "text": [
      "Number of training examples: Y_train = 3\n",
      "Number of testing examples: Y_test = 3\n",
      "Y_train shape: (105, 3)\n",
      "Y_test shape: (45, 3)\n",
      "Y_train after one hot encoding: \n"
     ]
    },
    {
     "data": {
      "text/html": [
       "<div>\n",
       "<style scoped>\n",
       "    .dataframe tbody tr th:only-of-type {\n",
       "        vertical-align: middle;\n",
       "    }\n",
       "\n",
       "    .dataframe tbody tr th {\n",
       "        vertical-align: top;\n",
       "    }\n",
       "\n",
       "    .dataframe thead th {\n",
       "        text-align: right;\n",
       "    }\n",
       "</style>\n",
       "<table border=\"1\" class=\"dataframe\">\n",
       "  <thead>\n",
       "    <tr style=\"text-align: right;\">\n",
       "      <th></th>\n",
       "      <th>0.0</th>\n",
       "      <th>1.0</th>\n",
       "      <th>2.0</th>\n",
       "    </tr>\n",
       "  </thead>\n",
       "  <tbody>\n",
       "    <tr>\n",
       "      <td>60</td>\n",
       "      <td>0</td>\n",
       "      <td>1</td>\n",
       "      <td>0</td>\n",
       "    </tr>\n",
       "    <tr>\n",
       "      <td>116</td>\n",
       "      <td>0</td>\n",
       "      <td>0</td>\n",
       "      <td>1</td>\n",
       "    </tr>\n",
       "    <tr>\n",
       "      <td>144</td>\n",
       "      <td>0</td>\n",
       "      <td>0</td>\n",
       "      <td>1</td>\n",
       "    </tr>\n",
       "    <tr>\n",
       "      <td>119</td>\n",
       "      <td>0</td>\n",
       "      <td>0</td>\n",
       "      <td>1</td>\n",
       "    </tr>\n",
       "    <tr>\n",
       "      <td>108</td>\n",
       "      <td>0</td>\n",
       "      <td>0</td>\n",
       "      <td>1</td>\n",
       "    </tr>\n",
       "  </tbody>\n",
       "</table>\n",
       "</div>"
      ],
      "text/plain": [
       "     0.0  1.0  2.0\n",
       "60     0    1    0\n",
       "116    0    0    1\n",
       "144    0    0    1\n",
       "119    0    0    1\n",
       "108    0    0    1"
      ]
     },
     "execution_count": 10,
     "metadata": {},
     "output_type": "execute_result"
    }
   ],
   "source": [
    "print('Y_train before one hot encoding: ')\n",
    "display(Y_train.head())\n",
    "Y_train = pd.get_dummies(Y_train)\n",
    "Y_test = pd.get_dummies(Y_test)\n",
    "print(f\"Number of training examples: Y_train = {Y_train.shape[1]}\")\n",
    "print(f\"Number of testing examples: Y_test = {Y_test.shape[1]}\")\n",
    "print(f\"Y_train shape: {Y_train.shape}\")\n",
    "print(f\"Y_test shape: {Y_test.shape}\")\n",
    "print(f'Y_train after one hot encoding: ')\n",
    "Y_train.head()"
   ]
  },
  {
   "cell_type": "markdown",
   "metadata": {},
   "source": [
    "## 5 - Neural Network Model\n",
    "\n",
    "We are going to build and train a Neural Network with a single hidden layer!"
   ]
  },
  {
   "cell_type": "markdown",
   "metadata": {},
   "source": [
    "### 5.1 Build NN Model"
   ]
  },
  {
   "cell_type": "code",
   "execution_count": 11,
   "metadata": {},
   "outputs": [
    {
     "name": "stderr",
     "output_type": "stream",
     "text": [
      "Using TensorFlow backend.\n"
     ]
    },
    {
     "name": "stdout",
     "output_type": "stream",
     "text": [
      "Model: \"sequential_1\"\n",
      "_________________________________________________________________\n",
      "Layer (type)                 Output Shape              Param #   \n",
      "=================================================================\n",
      "dense_1 (Dense)              (None, 4)                 20        \n",
      "_________________________________________________________________\n",
      "dense_2 (Dense)              (None, 3)                 15        \n",
      "=================================================================\n",
      "Total params: 35\n",
      "Trainable params: 35\n",
      "Non-trainable params: 0\n",
      "_________________________________________________________________\n"
     ]
    }
   ],
   "source": [
    "from keras.models import Sequential\n",
    "from keras.layers import Dense\n",
    "from keras.optimizers import Adam\n",
    "\n",
    "clf = Sequential()\n",
    "\n",
    "clf.add(Dense(units=4 ,activation='relu', input_shape=(4,)))\n",
    "clf.add(Dense(units=3, activation='softmax'))\n",
    "\n",
    "clf.compile(loss='categorical_crossentropy', optimizer=Adam(lr=0.001) ,metrics=['accuracy'])\n",
    "\n",
    "clf.summary()"
   ]
  },
  {
   "cell_type": "markdown",
   "metadata": {},
   "source": [
    "### 5.2 Train NN Model"
   ]
  },
  {
   "cell_type": "code",
   "execution_count": 12,
   "metadata": {},
   "outputs": [
    {
     "name": "stdout",
     "output_type": "stream",
     "text": [
      "Epoch 1/100\n",
      "105/105 [==============================] - 0s 4ms/step - loss: 0.9428 - accuracy: 0.5905\n",
      "Epoch 2/100\n",
      "105/105 [==============================] - 0s 433us/step - loss: 0.9328 - accuracy: 0.5810\n",
      "Epoch 3/100\n",
      "105/105 [==============================] - 0s 456us/step - loss: 0.9232 - accuracy: 0.5810\n",
      "Epoch 4/100\n",
      "105/105 [==============================] - 0s 445us/step - loss: 0.9132 - accuracy: 0.5810\n",
      "Epoch 5/100\n",
      "105/105 [==============================] - 0s 130us/step - loss: 0.9031 - accuracy: 0.5810\n",
      "Epoch 6/100\n",
      "105/105 [==============================] - 0s 329us/step - loss: 0.8940 - accuracy: 0.5714\n",
      "Epoch 7/100\n",
      "105/105 [==============================] - 0s 345us/step - loss: 0.8846 - accuracy: 0.5714\n",
      "Epoch 8/100\n",
      "105/105 [==============================] - 0s 373us/step - loss: 0.8757 - accuracy: 0.5810\n",
      "Epoch 9/100\n",
      "105/105 [==============================] - 0s 248us/step - loss: 0.8677 - accuracy: 0.5714\n",
      "Epoch 10/100\n",
      "105/105 [==============================] - 0s 208us/step - loss: 0.8590 - accuracy: 0.5714\n",
      "Epoch 11/100\n",
      "105/105 [==============================] - 0s 276us/step - loss: 0.8506 - accuracy: 0.5810\n",
      "Epoch 12/100\n",
      "105/105 [==============================] - 0s 552us/step - loss: 0.8425 - accuracy: 0.5905\n",
      "Epoch 13/100\n",
      "105/105 [==============================] - 0s 232us/step - loss: 0.8340 - accuracy: 0.5905\n",
      "Epoch 14/100\n",
      "105/105 [==============================] - 0s 570us/step - loss: 0.8256 - accuracy: 0.5905\n",
      "Epoch 15/100\n",
      "105/105 [==============================] - 0s 426us/step - loss: 0.8174 - accuracy: 0.5810\n",
      "Epoch 16/100\n",
      "105/105 [==============================] - 0s 369us/step - loss: 0.8095 - accuracy: 0.5714\n",
      "Epoch 17/100\n",
      "105/105 [==============================] - 0s 625us/step - loss: 0.8014 - accuracy: 0.5810\n",
      "Epoch 18/100\n",
      "105/105 [==============================] - 0s 442us/step - loss: 0.7937 - accuracy: 0.5905\n",
      "Epoch 19/100\n",
      "105/105 [==============================] - 0s 207us/step - loss: 0.7859 - accuracy: 0.5905\n",
      "Epoch 20/100\n",
      "105/105 [==============================] - 0s 201us/step - loss: 0.7783 - accuracy: 0.6000\n",
      "Epoch 21/100\n",
      "105/105 [==============================] - 0s 246us/step - loss: 0.7709 - accuracy: 0.6000\n",
      "Epoch 22/100\n",
      "105/105 [==============================] - 0s 359us/step - loss: 0.7637 - accuracy: 0.6000\n",
      "Epoch 23/100\n",
      "105/105 [==============================] - 0s 514us/step - loss: 0.7567 - accuracy: 0.6000\n",
      "Epoch 24/100\n",
      "105/105 [==============================] - 0s 387us/step - loss: 0.7501 - accuracy: 0.6190\n",
      "Epoch 25/100\n",
      "105/105 [==============================] - 0s 570us/step - loss: 0.7440 - accuracy: 0.6476\n",
      "Epoch 26/100\n",
      "105/105 [==============================] - 0s 363us/step - loss: 0.7371 - accuracy: 0.6571\n",
      "Epoch 27/100\n",
      "105/105 [==============================] - 0s 184us/step - loss: 0.7312 - accuracy: 0.6571\n",
      "Epoch 28/100\n",
      "105/105 [==============================] - 0s 208us/step - loss: 0.7247 - accuracy: 0.6667\n",
      "Epoch 29/100\n",
      "105/105 [==============================] - 0s 326us/step - loss: 0.7183 - accuracy: 0.6667\n",
      "Epoch 30/100\n",
      "105/105 [==============================] - 0s 325us/step - loss: 0.7119 - accuracy: 0.6762\n",
      "Epoch 31/100\n",
      "105/105 [==============================] - 0s 191us/step - loss: 0.7056 - accuracy: 0.6857\n",
      "Epoch 32/100\n",
      "105/105 [==============================] - 0s 271us/step - loss: 0.6995 - accuracy: 0.6857\n",
      "Epoch 33/100\n",
      "105/105 [==============================] - 0s 310us/step - loss: 0.6930 - accuracy: 0.7048\n",
      "Epoch 34/100\n",
      "105/105 [==============================] - 0s 184us/step - loss: 0.6868 - accuracy: 0.7143\n",
      "Epoch 35/100\n",
      "105/105 [==============================] - 0s 174us/step - loss: 0.6805 - accuracy: 0.7238\n",
      "Epoch 36/100\n",
      "105/105 [==============================] - 0s 101us/step - loss: 0.6744 - accuracy: 0.7429\n",
      "Epoch 37/100\n",
      "105/105 [==============================] - 0s 235us/step - loss: 0.6679 - accuracy: 0.7619\n",
      "Epoch 38/100\n",
      "105/105 [==============================] - 0s 475us/step - loss: 0.6621 - accuracy: 0.7905\n",
      "Epoch 39/100\n",
      "105/105 [==============================] - 0s 156us/step - loss: 0.6561 - accuracy: 0.8095\n",
      "Epoch 40/100\n",
      "105/105 [==============================] - 0s 152us/step - loss: 0.6503 - accuracy: 0.8095\n",
      "Epoch 41/100\n",
      "105/105 [==============================] - 0s 292us/step - loss: 0.6448 - accuracy: 0.8095\n",
      "Epoch 42/100\n",
      "105/105 [==============================] - 0s 159us/step - loss: 0.6390 - accuracy: 0.8095\n",
      "Epoch 43/100\n",
      "105/105 [==============================] - 0s 178us/step - loss: 0.6335 - accuracy: 0.8095\n",
      "Epoch 44/100\n",
      "105/105 [==============================] - 0s 510us/step - loss: 0.6278 - accuracy: 0.8190\n",
      "Epoch 45/100\n",
      "105/105 [==============================] - 0s 362us/step - loss: 0.6223 - accuracy: 0.8190\n",
      "Epoch 46/100\n",
      "105/105 [==============================] - 0s 413us/step - loss: 0.6168 - accuracy: 0.8190\n",
      "Epoch 47/100\n",
      "105/105 [==============================] - 0s 280us/step - loss: 0.6115 - accuracy: 0.8381\n",
      "Epoch 48/100\n",
      "105/105 [==============================] - 0s 282us/step - loss: 0.6061 - accuracy: 0.8476\n",
      "Epoch 49/100\n",
      "105/105 [==============================] - 0s 214us/step - loss: 0.6010 - accuracy: 0.8571\n",
      "Epoch 50/100\n",
      "105/105 [==============================] - 0s 309us/step - loss: 0.5959 - accuracy: 0.8571\n",
      "Epoch 51/100\n",
      "105/105 [==============================] - 0s 267us/step - loss: 0.5908 - accuracy: 0.8571\n",
      "Epoch 52/100\n",
      "105/105 [==============================] - 0s 262us/step - loss: 0.5860 - accuracy: 0.8476\n",
      "Epoch 53/100\n",
      "105/105 [==============================] - 0s 291us/step - loss: 0.5808 - accuracy: 0.8476\n",
      "Epoch 54/100\n",
      "105/105 [==============================] - 0s 427us/step - loss: 0.5760 - accuracy: 0.8476\n",
      "Epoch 55/100\n",
      "105/105 [==============================] - 0s 542us/step - loss: 0.5711 - accuracy: 0.8476\n",
      "Epoch 56/100\n",
      "105/105 [==============================] - 0s 459us/step - loss: 0.5663 - accuracy: 0.8476\n",
      "Epoch 57/100\n",
      "105/105 [==============================] - 0s 298us/step - loss: 0.5617 - accuracy: 0.8476\n",
      "Epoch 58/100\n",
      "105/105 [==============================] - 0s 343us/step - loss: 0.5572 - accuracy: 0.8381\n",
      "Epoch 59/100\n",
      "105/105 [==============================] - 0s 400us/step - loss: 0.5528 - accuracy: 0.8381\n",
      "Epoch 60/100\n",
      "105/105 [==============================] - 0s 447us/step - loss: 0.5485 - accuracy: 0.8381\n",
      "Epoch 61/100\n",
      "105/105 [==============================] - 0s 419us/step - loss: 0.5440 - accuracy: 0.8381\n",
      "Epoch 62/100\n",
      "105/105 [==============================] - 0s 310us/step - loss: 0.5397 - accuracy: 0.8381\n",
      "Epoch 63/100\n",
      "105/105 [==============================] - 0s 437us/step - loss: 0.5353 - accuracy: 0.8381\n",
      "Epoch 64/100\n",
      "105/105 [==============================] - 0s 417us/step - loss: 0.5309 - accuracy: 0.8381\n",
      "Epoch 65/100\n",
      "105/105 [==============================] - 0s 208us/step - loss: 0.5268 - accuracy: 0.8381\n",
      "Epoch 66/100\n",
      "105/105 [==============================] - 0s 165us/step - loss: 0.5227 - accuracy: 0.8571\n",
      "Epoch 67/100\n",
      "105/105 [==============================] - 0s 210us/step - loss: 0.5185 - accuracy: 0.8571\n",
      "Epoch 68/100\n",
      "105/105 [==============================] - 0s 255us/step - loss: 0.5146 - accuracy: 0.8571\n",
      "Epoch 69/100\n",
      "105/105 [==============================] - 0s 372us/step - loss: 0.5110 - accuracy: 0.8571\n",
      "Epoch 70/100\n",
      "105/105 [==============================] - 0s 142us/step - loss: 0.5070 - accuracy: 0.8571\n",
      "Epoch 71/100\n",
      "105/105 [==============================] - 0s 394us/step - loss: 0.5034 - accuracy: 0.8571\n",
      "Epoch 72/100\n",
      "105/105 [==============================] - 0s 385us/step - loss: 0.4998 - accuracy: 0.8571\n",
      "Epoch 73/100\n",
      "105/105 [==============================] - 0s 184us/step - loss: 0.4961 - accuracy: 0.8571\n",
      "Epoch 74/100\n",
      "105/105 [==============================] - 0s 384us/step - loss: 0.4927 - accuracy: 0.8571\n",
      "Epoch 75/100\n",
      "105/105 [==============================] - 0s 168us/step - loss: 0.4892 - accuracy: 0.8571\n",
      "Epoch 76/100\n",
      "105/105 [==============================] - 0s 287us/step - loss: 0.4860 - accuracy: 0.8571\n",
      "Epoch 77/100\n",
      "105/105 [==============================] - 0s 212us/step - loss: 0.4825 - accuracy: 0.8571\n",
      "Epoch 78/100\n",
      "105/105 [==============================] - 0s 214us/step - loss: 0.4795 - accuracy: 0.8571\n",
      "Epoch 79/100\n",
      "105/105 [==============================] - 0s 561us/step - loss: 0.4761 - accuracy: 0.8571\n",
      "Epoch 80/100\n",
      "105/105 [==============================] - 0s 277us/step - loss: 0.4729 - accuracy: 0.8571\n",
      "Epoch 81/100\n",
      "105/105 [==============================] - 0s 225us/step - loss: 0.4700 - accuracy: 0.8571\n",
      "Epoch 82/100\n",
      "105/105 [==============================] - 0s 379us/step - loss: 0.4668 - accuracy: 0.8571\n",
      "Epoch 83/100\n",
      "105/105 [==============================] - 0s 422us/step - loss: 0.4638 - accuracy: 0.8571\n",
      "Epoch 84/100\n",
      "105/105 [==============================] - 0s 420us/step - loss: 0.4609 - accuracy: 0.8571\n",
      "Epoch 85/100\n",
      "105/105 [==============================] - 0s 199us/step - loss: 0.4578 - accuracy: 0.8571\n",
      "Epoch 86/100\n",
      "105/105 [==============================] - 0s 280us/step - loss: 0.4550 - accuracy: 0.8571\n",
      "Epoch 87/100\n",
      "105/105 [==============================] - 0s 298us/step - loss: 0.4522 - accuracy: 0.8571\n",
      "Epoch 88/100\n",
      "105/105 [==============================] - 0s 214us/step - loss: 0.4494 - accuracy: 0.8571\n",
      "Epoch 89/100\n",
      "105/105 [==============================] - 0s 540us/step - loss: 0.4470 - accuracy: 0.8667\n",
      "Epoch 90/100\n",
      "105/105 [==============================] - 0s 352us/step - loss: 0.4443 - accuracy: 0.8667\n",
      "Epoch 91/100\n",
      "105/105 [==============================] - 0s 287us/step - loss: 0.4418 - accuracy: 0.8667\n",
      "Epoch 92/100\n",
      "105/105 [==============================] - 0s 138us/step - loss: 0.4395 - accuracy: 0.8667\n",
      "Epoch 93/100\n",
      "105/105 [==============================] - 0s 255us/step - loss: 0.4371 - accuracy: 0.8667\n",
      "Epoch 94/100\n",
      "105/105 [==============================] - 0s 168us/step - loss: 0.4348 - accuracy: 0.8667\n",
      "Epoch 95/100\n",
      "105/105 [==============================] - 0s 300us/step - loss: 0.4324 - accuracy: 0.8667\n",
      "Epoch 96/100\n",
      "105/105 [==============================] - 0s 160us/step - loss: 0.4301 - accuracy: 0.8667\n",
      "Epoch 97/100\n",
      "105/105 [==============================] - 0s 270us/step - loss: 0.4278 - accuracy: 0.8667\n",
      "Epoch 98/100\n",
      "105/105 [==============================] - 0s 286us/step - loss: 0.4257 - accuracy: 0.8667\n",
      "Epoch 99/100\n",
      "105/105 [==============================] - 0s 265us/step - loss: 0.4234 - accuracy: 0.8667\n",
      "Epoch 100/100\n",
      "105/105 [==============================] - 0s 246us/step - loss: 0.4213 - accuracy: 0.8667\n"
     ]
    },
    {
     "data": {
      "text/plain": [
       "<keras.callbacks.callbacks.History at 0x7f0ad2a29210>"
      ]
     },
     "execution_count": 12,
     "metadata": {},
     "output_type": "execute_result"
    }
   ],
   "source": [
    "clf.fit(X_train, Y_train, epochs=100)"
   ]
  },
  {
   "cell_type": "markdown",
   "metadata": {},
   "source": [
    "## 5 - Measuring Model Performance"
   ]
  },
  {
   "cell_type": "code",
   "execution_count": 13,
   "metadata": {},
   "outputs": [
    {
     "data": {
      "text/plain": [
       "array([2, 1, 0, 2, 0, 2, 0, 2, 2, 2, 1, 2, 1, 2, 2, 0, 2, 1, 0, 0, 2, 2,\n",
       "       0, 0, 2, 0, 0, 2, 1, 0, 2, 1, 0, 2, 2, 1, 0, 2, 2, 1, 2, 0, 2, 0,\n",
       "       0])"
      ]
     },
     "execution_count": 13,
     "metadata": {},
     "output_type": "execute_result"
    }
   ],
   "source": [
    "# Predict unseen irises\n",
    "Y_pred = clf.predict(X_test)\n",
    "Y_pred_class = Y_pred.argmax(axis=1)\n",
    "Y_pred_class"
   ]
  },
  {
   "cell_type": "code",
   "execution_count": 14,
   "metadata": {},
   "outputs": [
    {
     "data": {
      "text/plain": [
       "array([2, 1, 0, 2, 0, 2, 0, 1, 1, 1, 2, 1, 1, 1, 1, 0, 1, 1, 0, 0, 2, 1,\n",
       "       0, 0, 2, 0, 0, 1, 1, 0, 2, 1, 0, 2, 2, 1, 0, 1, 1, 1, 2, 0, 2, 0,\n",
       "       0])"
      ]
     },
     "execution_count": 14,
     "metadata": {},
     "output_type": "execute_result"
    }
   ],
   "source": [
    "# Actual unseen irises\n",
    "Y_test_class = Y_test.values.argmax(axis=1)\n",
    "Y_test_class"
   ]
  },
  {
   "cell_type": "code",
   "execution_count": 15,
   "metadata": {},
   "outputs": [
    {
     "name": "stdout",
     "output_type": "stream",
     "text": [
      "105/105 [==============================] - 0s 2ms/step\n",
      "45/45 [==============================] - 0s 310us/step\n",
      "Train Loss = 0.41975209542683195, Accuracy = 0.8666666746139526 \n",
      "Test Loss = 0.4492753585179647, Accuracy = 0.7333333492279053 \n"
     ]
    }
   ],
   "source": [
    "train_metrics = clf.evaluate(X_train, Y_train)\n",
    "test_metrics = clf.evaluate(X_test, Y_test)\n",
    "print(f'Train Loss = {train_metrics[0]}, Accuracy = {train_metrics[1]} ')\n",
    "print(f'Test Loss = {test_metrics[0]}, Accuracy = {test_metrics[1]} ')"
   ]
  },
  {
   "cell_type": "code",
   "execution_count": 16,
   "metadata": {},
   "outputs": [
    {
     "data": {
      "text/plain": [
       "array([[16,  0,  0],\n",
       "       [ 0,  7, 11],\n",
       "       [ 0,  1, 10]])"
      ]
     },
     "execution_count": 16,
     "metadata": {},
     "output_type": "execute_result"
    }
   ],
   "source": [
    "from sklearn.metrics import confusion_matrix\n",
    "confusion_matrix(Y_test_class, Y_pred_class)"
   ]
  },
  {
   "cell_type": "markdown",
   "metadata": {},
   "source": [
    "## 6 - Displaying Learning Curve"
   ]
  },
  {
   "cell_type": "code",
   "execution_count": 17,
   "metadata": {},
   "outputs": [
    {
     "data": {
      "image/png": "[encoded data removed]",
      "text/plain": [
       "<Figure size 432x288 with 1 Axes>"
      ]
     },
     "metadata": {
      "needs_background": "light"
     },
     "output_type": "display_data"
    }
   ],
   "source": [
    "def plot_learning_curve(history):\n",
    "    plt.plot(history.history['loss'])\n",
    "    plt.plot(history.history['accuracy'])\n",
    "    plt.title('Training Loss/Accuracy')\n",
    "    plt.xlabel('epoch')\n",
    "    plt.ylabel('loss/accuracy')\n",
    "    plt.legend(['loss', 'accuracy'], loc='upper left')\n",
    "    plt.show()\n",
    "plot_learning_curve(clf.history)"
   ]
  },
  {
   "cell_type": "markdown",
   "metadata": {},
   "source": [
    "## 7 - Exploring Model Parameters"
   ]
  },
  {
   "cell_type": "code",
   "execution_count": 18,
   "metadata": {},
   "outputs": [
    {
     "name": "stdout",
     "output_type": "stream",
     "text": [
      "Model weights = \n",
      " [array([[-0.5761564 , -0.07484457, -1.121704  , -0.6981684 ],\n",
      "       [-0.7947739 ,  0.42501757,  0.85803   ,  0.23362282],\n",
      "       [ 0.5847395 ,  0.9166866 , -0.26171374,  0.56936824],\n",
      "       [-0.57603353,  1.2337301 , -0.21684824,  0.06503501]],\n",
      "      dtype=float32), array([ 0.15906796,  0.4114696 ,  0.26323408, -0.13346691], dtype=float32), array([[-0.24306524,  0.546     , -0.19682518],\n",
      "       [-1.1133935 , -0.11431461,  0.28862804],\n",
      "       [ 0.68587965, -0.56211215, -1.1048568 ],\n",
      "       [-0.2918589 ,  0.62077826,  0.04778885]], dtype=float32), array([-0.19570325, -0.08177402,  0.17925261], dtype=float32)]\n"
     ]
    }
   ],
   "source": [
    "print(f'Model weights = \\n {clf.get_weights()}')"
   ]
  },
  {
   "cell_type": "markdown",
   "metadata": {},
   "source": [
    "## 8 - Tuning Model hyperparameters"
   ]
  },
  {
   "cell_type": "code",
   "execution_count": 19,
   "metadata": {},
   "outputs": [],
   "source": [
    "def nn_model(X, Y, hidden_layers=1, neurons=4, epochs=1000, learning_rate=0.001):\n",
    "    clf = Sequential()\n",
    "    clf.add(Dense(units=neurons, activation='relu', input_shape=(4,)))\n",
    "    for i in range(hidden_layers-1):\n",
    "        clf.add(Dense(units=neurons, activation='relu'))\n",
    "    clf.add(Dense(units=3, activation='softmax'))\n",
    "    clf.compile(loss='categorical_crossentropy', optimizer=Adam(lr=learning_rate) ,metrics=['accuracy'])\n",
    "    clf.fit(X, Y, epochs=epochs, verbose=False)\n",
    "    return clf"
   ]
  },
  {
   "cell_type": "code",
   "execution_count": 20,
   "metadata": {},
   "outputs": [
    {
     "name": "stdout",
     "output_type": "stream",
     "text": [
      "105/105 [==============================] - 0s 2ms/step\n",
      "45/45 [==============================] - 0s 785us/step\n",
      "Train Loss = 0.05250731160243352, Accuracy = 0.9809523820877075 \n",
      "Test Loss = 0.06941839224762386, Accuracy = 0.9777777791023254 \n",
      "Epochs = 1000\n"
     ]
    },
    {
     "data": {
      "image/png": "[encoded data removed]",
      "text/plain": [
       "<Figure size 432x288 with 1 Axes>"
      ]
     },
     "metadata": {
      "needs_background": "light"
     },
     "output_type": "display_data"
    },
    {
     "name": "stdout",
     "output_type": "stream",
     "text": [
      "105/105 [==============================] - 0s 1ms/step\n",
      "45/45 [==============================] - 0s 252us/step\n",
      "Train Loss = 0.015736736534606843, Accuracy = 1.0 \n",
      "Test Loss = 0.16394580139054193, Accuracy = 0.9777777791023254 \n",
      "Epochs = 10000\n"
     ]
    },
    {
     "data": {
      "image/png": "[encoded data removed]",
      "text/plain": [
       "<Figure size 432x288 with 1 Axes>"
      ]
     },
     "metadata": {
      "needs_background": "light"
     },
     "output_type": "display_data"
    }
   ],
   "source": [
    "# Idea 1: Increase number of epochs\n",
    "for i in range(2):\n",
    "    clf = nn_model(X_train, Y_train, hidden_layers=1 , neurons=4, epochs=1000*pow(10, i))\n",
    "    train_metrics = clf.evaluate(X_train, Y_train)\n",
    "    test_metrics = clf.evaluate(X_test, Y_test)\n",
    "    print(f'Train Loss = {train_metrics[0]}, Accuracy = {train_metrics[1]} ')\n",
    "    print(f'Test Loss = {test_metrics[0]}, Accuracy = {test_metrics[1]} ')\n",
    "    print(f'Epochs = {1000*pow(10, i)}')\n",
    "    plot_learning_curve(clf.history)"
   ]
  },
  {
   "cell_type": "code",
   "execution_count": 21,
   "metadata": {},
   "outputs": [
    {
     "name": "stdout",
     "output_type": "stream",
     "text": [
      "105/105 [==============================] - 0s 1ms/step\n",
      "45/45 [==============================] - 0s 751us/step\n",
      "Train Loss = 0.026316435706047785, Accuracy = 0.9904761910438538 \n",
      "Test Loss = 0.10099226037661234, Accuracy = 0.9777777791023254 \n",
      "Hidden neurons = 8\n"
     ]
    },
    {
     "data": {
      "image/png": "[encoded data removed]",
      "text/plain": [
       "<Figure size 432x288 with 1 Axes>"
      ]
     },
     "metadata": {
      "needs_background": "light"
     },
     "output_type": "display_data"
    },
    {
     "name": "stdout",
     "output_type": "stream",
     "text": [
      "105/105 [==============================] - 0s 1ms/step\n",
      "45/45 [==============================] - 0s 359us/step\n",
      "Train Loss = 0.00506850578600452, Accuracy = 1.0 \n",
      "Test Loss = 0.19166918165153926, Accuracy = 0.9777777791023254 \n",
      "Hidden neurons = 16\n"
     ]
    },
    {
     "data": {
      "image/png": "[encoded data removed]",
      "text/plain": [
       "<Figure size 432x288 with 1 Axes>"
      ]
     },
     "metadata": {
      "needs_background": "light"
     },
     "output_type": "display_data"
    },
    {
     "name": "stdout",
     "output_type": "stream",
     "text": [
      "105/105 [==============================] - 0s 2ms/step\n",
      "45/45 [==============================] - 0s 555us/step\n",
      "Train Loss = 0.0007936725035376314, Accuracy = 1.0 \n",
      "Test Loss = 0.2816356728474299, Accuracy = 0.9777777791023254 \n",
      "Hidden neurons = 24\n"
     ]
    },
    {
     "data": {
      "image/png": "[encoded data removed]",
      "text/plain": [
       "<Figure size 432x288 with 1 Axes>"
      ]
     },
     "metadata": {
      "needs_background": "light"
     },
     "output_type": "display_data"
    },
    {
     "name": "stdout",
     "output_type": "stream",
     "text": [
      "105/105 [==============================] - 0s 1ms/step\n",
      "45/45 [==============================] - 0s 984us/step\n",
      "Train Loss = 0.0005166851715849979, Accuracy = 1.0 \n",
      "Test Loss = 0.30388240253345833, Accuracy = 0.9777777791023254 \n",
      "Hidden neurons = 32\n"
     ]
    },
    {
     "data": {
      "image/png": "[encoded data removed]",
      "text/plain": [
       "<Figure size 432x288 with 1 Axes>"
      ]
     },
     "metadata": {
      "needs_background": "light"
     },
     "output_type": "display_data"
    }
   ],
   "source": [
    "# Idea 2: Increase number of neurons\n",
    "for i in range(8, 33, 8):    \n",
    "    clf = nn_model(X_train, Y_train, hidden_layers=1 , neurons=i, epochs=3000)\n",
    "    train_metrics = clf.evaluate(X_train, Y_train)\n",
    "    test_metrics = clf.evaluate(X_test, Y_test)\n",
    "    print(f'Train Loss = {train_metrics[0]}, Accuracy = {train_metrics[1]} ')\n",
    "    print(f'Test Loss = {test_metrics[0]}, Accuracy = {test_metrics[1]} ')\n",
    "    print(f'Hidden neurons = {i}')\n",
    "    plot_learning_curve(clf.history)"
   ]
  },
  {
   "cell_type": "markdown",
   "metadata": {},
   "source": [
    "**We notice that the best number for neurons = 24 which gives the simplest NN with high accuracy.**"
   ]
  },
  {
   "cell_type": "code",
   "execution_count": 22,
   "metadata": {},
   "outputs": [
    {
     "data": {
      "text/plain": [
       "array([[16,  0,  0],\n",
       "       [ 0, 17,  1],\n",
       "       [ 0,  0, 11]])"
      ]
     },
     "execution_count": 22,
     "metadata": {},
     "output_type": "execute_result"
    }
   ],
   "source": [
    "Y_pred_class = clf.predict(X_test).argmax(axis=1)\n",
    "Y_test_class = Y_test.values.argmax(axis=1)\n",
    "confusion_matrix(Y_test_class, Y_pred_class)"
   ]
  }
 ],
 "metadata": {
  "kernelspec": {
   "display_name": "Python 3",
   "language": "python",
   "name": "python3"
  },
  "language_info": {
   "codemirror_mode": {
    "name": "ipython",
    "version": 3
   },
   "file_extension": ".py",
   "mimetype": "text/x-python",
   "name": "python",
   "nbconvert_exporter": "python",
   "pygments_lexer": "ipython3",
   "version": "3.7.4"
  }
 },
 "nbformat": 4,
 "nbformat_minor": 2
}
