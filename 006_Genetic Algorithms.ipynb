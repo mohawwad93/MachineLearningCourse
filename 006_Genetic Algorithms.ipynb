{
 "cells": [
  {
   "cell_type": "markdown",
   "metadata": {},
   "source": [
    "## 1 - Packages"
   ]
  },
  {
   "cell_type": "code",
   "execution_count": 16,
   "metadata": {},
   "outputs": [],
   "source": [
    "import numpy as np\n",
    "import matplotlib.pyplot as plt"
   ]
  },
  {
   "cell_type": "markdown",
   "metadata": {},
   "source": [
    "## 2 - Overview of the Problem set\n",
    "\n",
    "**Problem Statement**: A gardener has 140 feet of fencing to fence in a rectangular vegetable garden. The gardener wants to know the dimensions of the largest area he can fence.\n",
    "\n",
    "We will help the gardener to find the optimal dimensions that give him the largest area to fence using genetic algorithm.\n",
    "\n",
    "Let's go!\n",
    "\n",
    "We all know that the area of a rectangular is\n",
    "\n",
    "                            area = width x length                     (1)\n",
    "                            \n",
    "Also, we know the perimeter is fixed at 140 ft\n",
    "\n",
    "                            perimeter = 2*width + 2*length = 140\n",
    "                            width + length = 70\n",
    "                            width = 70 - length                       (2)\n",
    "                            \n",
    "Now, if substitute equation (2) in equation (1) we get\n",
    "\n",
    "                            area = (70 - length) x length\n",
    "                            area = 70*length - length^2               (3)\n",
    "                            \n",
    "Finally, if we want to maximize the area we need to find the optimal value for length variable. As we all know, equation (3) is a quadratic function in one variable therefor we can draw the function and find the optimal value for length but we want to find the optimal value using\n",
    "genetic algorithm :)          "
   ]
  },
  {
   "cell_type": "markdown",
   "metadata": {},
   "source": [
    "## 3 - Finding optimal value using graph"
   ]
  },
  {
   "cell_type": "code",
   "execution_count": 17,
   "metadata": {},
   "outputs": [
    {
     "data": {
      "text/plain": [
       "[<matplotlib.lines.Line2D at 0x7f8edf993d90>]"
      ]
     },
     "execution_count": 17,
     "metadata": {},
     "output_type": "execute_result"
    },
    {
     "data": {
      "image/png": "[encoded data removed]",
      "text/plain": [
       "<Figure size 432x288 with 1 Axes>"
      ]
     },
     "metadata": {
      "needs_background": "light"
     },
     "output_type": "display_data"
    }
   ],
   "source": [
    "length = np.linspace(0, 70, 71)\n",
    "area = 70*length - np.power(length, 2)\n",
    "plt.xlabel(\"Length\")\n",
    "plt.ylabel(\"Area\")\n",
    "plt.plot(length, area)"
   ]
  },
  {
   "cell_type": "code",
   "execution_count": 18,
   "metadata": {},
   "outputs": [
    {
     "name": "stdout",
     "output_type": "stream",
     "text": [
      "The maximum area = 1225.0\n",
      "The optimal dimensions at length=35 and width=35\n"
     ]
    }
   ],
   "source": [
    "print(f'The maximum area = {np.max(area)}')\n",
    "print(f'The optimal dimensions at length={np.argmax(area)} and width={70-np.argmax(area)}')"
   ]
  },
  {
   "cell_type": "markdown",
   "metadata": {},
   "source": [
    "## 4 - Finding optimal value using genetic algorithm"
   ]
  },
  {
   "cell_type": "code",
   "execution_count": 19,
   "metadata": {},
   "outputs": [
    {
     "data": {
      "text/plain": [
       "array([0, 0, 0, 0, 0, 0, 1, 1], dtype=uint8)"
      ]
     },
     "execution_count": 19,
     "metadata": {},
     "output_type": "execute_result"
    }
   ],
   "source": [
    "def encode_chrom(value):\n",
    "    chrom = np.unpackbits(value)\n",
    "    return chrom\n",
    "\n",
    "encode_chrom(np.array([3], dtype=np.uint8))"
   ]
  },
  {
   "cell_type": "code",
   "execution_count": 20,
   "metadata": {},
   "outputs": [
    {
     "data": {
      "text/plain": [
       "70.0"
      ]
     },
     "execution_count": 20,
     "metadata": {},
     "output_type": "execute_result"
    }
   ],
   "source": [
    "def decode_chrom(chrom):\n",
    "    chrom_value = np.packbits(chrom)[0]\n",
    "    length = chrom_value*70/255\n",
    "    return length\n",
    "\n",
    "chrom = encode_chrom(np.array([255], dtype=np.uint8))\n",
    "decode_chrom(chrom)"
   ]
  },
  {
   "cell_type": "code",
   "execution_count": 21,
   "metadata": {},
   "outputs": [
    {
     "data": {
      "text/plain": [
       "(35.13725490196079, 1224.9811610918878)"
      ]
     },
     "execution_count": 21,
     "metadata": {},
     "output_type": "execute_result"
    }
   ],
   "source": [
    "def compute_fitness(chrom):\n",
    "    length = decode_chrom(chrom)\n",
    "    fitness = 70*length - np.power(length, 2)\n",
    "    return fitness\n",
    "\n",
    "chrom = encode_chrom(np.array([128], dtype=np.uint8))\n",
    "decode_chrom(chrom), compute_fitness(chrom)"
   ]
  },
  {
   "cell_type": "code",
   "execution_count": 22,
   "metadata": {},
   "outputs": [
    {
     "name": "stdout",
     "output_type": "stream",
     "text": [
      "Population: \n",
      "[[0 0 1 1 0 0 1 1]\n",
      " [0 0 0 0 0 0 1 1]\n",
      " [0 0 0 0 1 1 1 0]\n",
      " [0 0 1 1 1 0 1 1]\n",
      " [0 0 0 1 1 0 0 1]\n",
      " [0 0 1 1 1 1 0 0]\n",
      " [0 0 0 1 0 1 0 0]\n",
      " [0 0 1 0 0 1 1 1]\n",
      " [0 0 0 1 1 0 0 0]\n",
      " [0 1 0 0 0 0 0 1]]\n"
     ]
    }
   ],
   "source": [
    "def init_population(chroms_num, start, end):\n",
    "    genes_num=8\n",
    "    population = np.zeros((chroms_num, genes_num), dtype=np.uint8)\n",
    "    for i in range(chroms_num):\n",
    "        chrom_value = np.random.randint(low=start, high=end+1, dtype=np.uint8)\n",
    "        chrom = encode_chrom(chrom_value)\n",
    "        population[i] = chrom\n",
    "    return population\n",
    "\n",
    "np.random.seed(42)\n",
    "population = init_population(chroms_num=10, start=0, end=70)\n",
    "print(f\"Population: \\n{population}\")"
   ]
  },
  {
   "cell_type": "code",
   "execution_count": 23,
   "metadata": {},
   "outputs": [
    {
     "name": "stdout",
     "output_type": "stream",
     "text": [
      "Population fitness: \n",
      "[[784.        ]\n",
      " [ 56.96885813]\n",
      " [254.24990388]\n",
      " [871.41253364]\n",
      " [433.29488658]\n",
      " [881.66089965]\n",
      " [354.17147251]\n",
      " [634.79584775]\n",
      " [417.7716263 ]\n",
      " [930.64206075]]\n"
     ]
    }
   ],
   "source": [
    "def compute_pop_fitness(population):\n",
    "    pop_fitness = np.zeros((population.shape[0], 1))\n",
    "    for idx, chrom in enumerate(population):\n",
    "        fitness = compute_fitness(chrom)\n",
    "        pop_fitness[idx] = fitness\n",
    "    return pop_fitness\n",
    "\n",
    "np.random.seed(42)\n",
    "population = init_population(chroms_num=10, start=0, end=70)\n",
    "pop_fitness = compute_pop_fitness(population)\n",
    "print(f\"Population fitness: \\n{pop_fitness}\")"
   ]
  },
  {
   "cell_type": "code",
   "execution_count": 24,
   "metadata": {},
   "outputs": [
    {
     "data": {
      "text/plain": [
       "array([[0, 0, 1, 1, 0, 0, 1, 1],\n",
       "       [0, 0, 1, 1, 1, 1, 0, 0],\n",
       "       [0, 0, 1, 1, 1, 0, 1, 1],\n",
       "       [0, 0, 0, 0, 0, 0, 1, 1]], dtype=uint8)"
      ]
     },
     "execution_count": 24,
     "metadata": {},
     "output_type": "execute_result"
    }
   ],
   "source": [
    "def roulette_wheel_selection(population, fitness, parents_num):\n",
    "    chroms_num, genes_num = population.shape\n",
    "    # Create roulette wheel for chroms selection\n",
    "    probs = fitness/np.sum(fitness)\n",
    "    probs_start = np.zeros(probs.shape)\n",
    "    probs_end = np.zeros(probs.shape)\n",
    "    current = 0\n",
    "    for i in range(chroms_num): \n",
    "        probs_start[i] = current\n",
    "        probs_end[i] = current + probs[i]\n",
    "        current = probs_end[i]\n",
    "    # Select chroms in the current generation as parents for mating\n",
    "    parents = np.zeros((parents_num, genes_num), dtype=np.uint8)\n",
    "    for parent_idx in range(parents_num):\n",
    "        arrow = np.random.rand()\n",
    "        for chrom_idx in range(chroms_num):\n",
    "            if arrow >= probs_start[chrom_idx] and arrow < probs_end[chrom_idx]:\n",
    "                parents[parent_idx, :] = population[chrom_idx, :]\n",
    "                break\n",
    "    return parents\n",
    "\n",
    "np.random.seed(42)\n",
    "population = init_population(chroms_num=10, start=0, end=70)\n",
    "pop_fitness = compute_pop_fitness(population)\n",
    "parents = roulette_wheel_selection(population, pop_fitness, parents_num=4)\n",
    "parents"
   ]
  },
  {
   "cell_type": "code",
   "execution_count": 25,
   "metadata": {},
   "outputs": [
    {
     "data": {
      "text/plain": [
       "array([[0, 0, 0, 0, 0, 0, 1, 1],\n",
       "       [0, 0, 1, 1, 0, 0, 1, 1],\n",
       "       [0, 0, 1, 1, 1, 0, 1, 1],\n",
       "       [0, 0, 1, 1, 0, 0, 1, 1],\n",
       "       [0, 0, 1, 1, 1, 1, 0, 0],\n",
       "       [0, 0, 1, 1, 1, 0, 1, 1],\n",
       "       [0, 0, 1, 1, 1, 1, 0, 1],\n",
       "       [0, 0, 1, 1, 1, 0, 1, 0],\n",
       "       [0, 0, 1, 1, 0, 0, 1, 1],\n",
       "       [0, 0, 0, 0, 0, 0, 1, 1]], dtype=uint8)"
      ]
     },
     "execution_count": 25,
     "metadata": {},
     "output_type": "execute_result"
    }
   ],
   "source": [
    "def crossover(parents, offsprings_num):\n",
    "    parents_num, genes_num = parents.shape\n",
    "    offsprings_num = (np.ceil(offsprings_num/2)*2).astype(np.uint8)\n",
    "    offsprings = np.zeros((offsprings_num, genes_num), dtype=np.uint8)\n",
    "    crossover_prob = 0.8\n",
    "    for i in range(0, offsprings_num, 2):\n",
    "        parents_idx = np.random.permutation(parents_num)\n",
    "        if np.random.rand() <= crossover_prob: \n",
    "            crossover_point = np.random.randint(low=1, high=genes_num)\n",
    "            # First child\n",
    "            offsprings[i, :crossover_point] = parents[parents_idx[0], :crossover_point]\n",
    "            offsprings[i, crossover_point:] = parents[parents_idx[1], crossover_point:]\n",
    "            # Second child\n",
    "            offsprings[i+1, :crossover_point] = parents[parents_idx[1], :crossover_point]\n",
    "            offsprings[i+1, crossover_point:] = parents[parents_idx[0], crossover_point:]\n",
    "        else:\n",
    "            offsprings[i, :] = parents[parents_idx[0],:]\n",
    "            offsprings[i+1, :] = parents[parents_idx[1],:]\n",
    "    return offsprings\n",
    "\n",
    "np.random.seed(42)\n",
    "population = init_population(chroms_num=10, start=0, end=70)\n",
    "pop_fitness = compute_pop_fitness(population)\n",
    "parents = roulette_wheel_selection(population, pop_fitness, parents_num=4)\n",
    "offsprings = crossover(parents, population.shape[0])\n",
    "offsprings"
   ]
  },
  {
   "cell_type": "code",
   "execution_count": 26,
   "metadata": {},
   "outputs": [
    {
     "data": {
      "text/plain": [
       "array([[0, 0, 0, 0, 0, 0, 1, 1],\n",
       "       [0, 0, 1, 1, 0, 0, 1, 1],\n",
       "       [0, 0, 1, 1, 1, 0, 1, 1],\n",
       "       [0, 0, 1, 1, 0, 0, 1, 1],\n",
       "       [0, 0, 1, 1, 1, 1, 0, 0],\n",
       "       [0, 0, 1, 1, 1, 0, 1, 1],\n",
       "       [0, 0, 1, 1, 1, 1, 0, 1],\n",
       "       [0, 0, 1, 1, 1, 0, 1, 0],\n",
       "       [0, 0, 1, 1, 0, 0, 1, 1],\n",
       "       [0, 0, 0, 0, 0, 0, 1, 1]], dtype=uint8)"
      ]
     },
     "execution_count": 26,
     "metadata": {},
     "output_type": "execute_result"
    }
   ],
   "source": [
    "def mutation(offsprings):\n",
    "    offsprings_num, genes_num = offsprings.shape\n",
    "    mutation_prob = 0.01\n",
    "    for idx in range(offsprings_num):\n",
    "        if np.random.rand() <= mutation_prob: \n",
    "            gene = np.random.randint(low=0, high=genes_num)\n",
    "            offsprings[idx, gene] = 1 - offsprings[idx, gene]\n",
    "    return offsprings\n",
    "\n",
    "np.random.seed(42)\n",
    "population = init_population(chroms_num=10, start=0, end=70)\n",
    "pop_fitness = compute_pop_fitness(population)\n",
    "parents = roulette_wheel_selection(population, pop_fitness, parents_num=4)\n",
    "offsprings = crossover(parents, population.shape[0])\n",
    "new_population = mutation(offsprings)\n",
    "new_population"
   ]
  },
  {
   "cell_type": "code",
   "execution_count": 27,
   "metadata": {},
   "outputs": [],
   "source": [
    "def run(population, generations_num=500, parents_num=4):\n",
    "    history = []\n",
    "    for generation in range(generations_num):\n",
    "        pop_fitness = compute_pop_fitness(population)\n",
    "        history.append(np.max(pop_fitness))\n",
    "        parents = roulette_wheel_selection(population, pop_fitness, parents_num)\n",
    "        offsprings = crossover(parents, offsprings_num=population.shape[0])\n",
    "        population = mutation(offsprings)\n",
    "    history.append(np.max(compute_pop_fitness(population)))\n",
    "    return population, history"
   ]
  },
  {
   "cell_type": "code",
   "execution_count": 28,
   "metadata": {},
   "outputs": [
    {
     "name": "stdout",
     "output_type": "stream",
     "text": [
      "Optimal length = 35.0 and Width = 35.0\n",
      "Maximum area = 1225.0\n"
     ]
    }
   ],
   "source": [
    "np.random.seed(42)\n",
    "chroms_num = 10\n",
    "population = init_population(chroms_num, 0, 70)\n",
    "population, history = run(population, generations_num=500, parents_num=4)\n",
    "pop_fitness = compute_pop_fitness(population)\n",
    "best_chrom_idx = np.argmax(pop_fitness)\n",
    "length = round(decode_chrom(population[best_chrom_idx, :]))\n",
    "width = 70 - length\n",
    "print(f\"Optimal length = {length} and Width = {width}\")\n",
    "print(f\"Maximum area = {length*width}\")"
   ]
  },
  {
   "cell_type": "code",
   "execution_count": 29,
   "metadata": {},
   "outputs": [
    {
     "data": {
      "image/png": "[encoded data removed]",
      "text/plain": [
       "<Figure size 432x288 with 1 Axes>"
      ]
     },
     "metadata": {
      "needs_background": "light"
     },
     "output_type": "display_data"
    },
    {
     "name": "stdout",
     "output_type": "stream",
     "text": [
      "Maximum area = 1225.0\n"
     ]
    }
   ],
   "source": [
    "def plot_result(history):\n",
    "    plt.plot(history)\n",
    "    plt.xlabel(\"Generation\")\n",
    "    plt.ylabel(\"Fitness\")\n",
    "    plt.show()\n",
    "    \n",
    "plot_result(history)\n",
    "print(f\"Maximum area = {round(np.max(history))}\")"
   ]
  },
  {
   "cell_type": "code",
   "execution_count": 30,
   "metadata": {},
   "outputs": [
    {
     "name": "stdout",
     "output_type": "stream",
     "text": [
      "[(35.0, 4), (31.0, 4), (32.0, 4), (23.0, 3), (34.0, 3)]\n"
     ]
    }
   ],
   "source": [
    "np.random.seed(42)\n",
    "chroms_num = 10\n",
    "lengths = []\n",
    "for _ in range(50):\n",
    "    population = init_population(chroms_num, 0, 70)\n",
    "    population, history = run(population, generations_num=500, parents_num=4)\n",
    "    pop_fitness = compute_pop_fitness(population)\n",
    "    best_chrom_idx = np.argmax(pop_fitness)\n",
    "    length = round(decode_chrom(population[best_chrom_idx, :]))\n",
    "    lengths.append(length)\n",
    "    \n",
    "from collections import Counter\n",
    "counter = Counter(lengths)\n",
    "print(counter.most_common(5))"
   ]
  },
  {
   "cell_type": "code",
   "execution_count": null,
   "metadata": {},
   "outputs": [],
   "source": []
  }
 ],
 "metadata": {
  "kernelspec": {
   "display_name": "Python 3",
   "language": "python",
   "name": "python3"
  },
  "language_info": {
   "codemirror_mode": {
    "name": "ipython",
    "version": 3
   },
   "file_extension": ".py",
   "mimetype": "text/x-python",
   "name": "python",
   "nbconvert_exporter": "python",
   "pygments_lexer": "ipython3",
   "version": "3.7.4"
  }
 },
 "nbformat": 4,
 "nbformat_minor": 2
}
